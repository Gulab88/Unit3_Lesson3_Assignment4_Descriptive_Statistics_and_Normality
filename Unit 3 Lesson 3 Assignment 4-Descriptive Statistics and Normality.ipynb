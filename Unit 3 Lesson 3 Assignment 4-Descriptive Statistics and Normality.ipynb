{
 "cells": [
  {
   "cell_type": "code",
   "execution_count": 98,
   "metadata": {
    "collapsed": false
   },
   "outputs": [
    {
     "name": "stdout",
     "output_type": "stream",
     "text": [
      "0.818400119052\n",
      "0.155771611451\n"
     ]
    },
    {
     "data": {
      "image/png": "[encoded data removed]",
      "text/plain": [
       "<matplotlib.figure.Figure at 0x10f060b70>"
      ]
     },
     "metadata": {},
     "output_type": "display_data"
    }
   ],
   "source": [
    "import numpy as np #advanced math & sorting data analytics friendly\n",
    "import pandas as pd #m-o-m, DataFrames\n",
    "import matplotlib.pyplot as plt #plotting and visualization\n",
    "\n",
    "#1. Draw samples from a Beta Distribution\n",
    "#Generate a random var with 100 dps \n",
    "BetaVar = np.random.beta(5,1, 100)\n",
    "\n",
    "#2. Graph variable using a histogram\n",
    "plt.hist(BetaVar)\n",
    "\n",
    "#3. Compute and plot mean and SD \n",
    "print(np.mean(BetaVar))\n",
    "print(np.std(BetaVar))\n",
    "plt.axvline(BetaVar.mean(), color='b', linestyle = 'solid', linewidth=2) \n",
    "plt.axvline(BetaVar.mean()+BetaVar.std(), color = 'b', linestyle = 'dashed', linewidth=2)\n",
    "plt.axvline(BetaVar.mean()-BetaVar.std(), color = 'b', linestyle = 'dashed', linewidth=2)\n",
    "plt.show()\n",
    "\n",
    "#4. The descriptive statistics correctly show that most values cluster \n",
    "#toward higher values, and eyeballing the histogram, it does seem like \n",
    "# 1 SD captures the majority of the values. \n",
    "\n"
   ]
  },
  {
   "cell_type": "code",
   "execution_count": 99,
   "metadata": {
    "collapsed": false
   },
   "outputs": [
    {
     "name": "stdout",
     "output_type": "stream",
     "text": [
      "10.22\n",
      "2.339145143\n"
     ]
    },
    {
     "data": {
      "image/png": "[encoded data removed]",
      "text/plain": [
       "<matplotlib.figure.Figure at 0x10e679e48>"
      ]
     },
     "metadata": {},
     "output_type": "display_data"
    }
   ],
   "source": [
    "#1. Draw samples from a Binomial Distribution\n",
    "#Generate a random var with 100 dps \n",
    "BinomialVar = np.random.binomial(20,.5, 100)\n",
    "\n",
    "#2. Graph variable using a histogram\n",
    "plt.hist(BinomialVar)\n",
    "\n",
    "#3. Compute and plot mean and SD \n",
    "print(np.mean(BinomialVar))\n",
    "print(np.std(BinomialVar))\n",
    "plt.axvline(BinomialVar.mean(), color='b', linestyle = 'solid', linewidth=2) \n",
    "plt.axvline(BinomialVar.mean()+BinomialVar.std(), color = 'b', linestyle = 'dashed', linewidth=2)\n",
    "plt.axvline(BinomialVar.mean()-BinomialVar.std(), color = 'b', linestyle = 'dashed', linewidth=2)\n",
    "plt.show()\n",
    "\n",
    "#4. The descriptive statistics correctly show that the mean number of success\n",
    "#hover around 10, which is half the number of repetitions when \n",
    "#p = 0.5.\n"
   ]
  },
  {
   "cell_type": "code",
   "execution_count": 100,
   "metadata": {
    "collapsed": false
   },
   "outputs": [
    {
     "name": "stdout",
     "output_type": "stream",
     "text": [
      "5.26876387891\n",
      "2.4235105742\n"
     ]
    },
    {
     "data": {
      "image/png": "[encoded data removed]",
      "text/plain": [
       "<matplotlib.figure.Figure at 0x10ec1ba20>"
      ]
     },
     "metadata": {},
     "output_type": "display_data"
    }
   ],
   "source": [
    "#1. Draw samples from a Gamma Distribution\n",
    "#Generate a random var with 100 dps \n",
    "GammaVar = np.random.gamma(5,1,100)\n",
    "\n",
    "#2. Graph variable using a histogram\n",
    "plt.hist(GammaVar)\n",
    "\n",
    "#3. Compute and plot mean and SD \n",
    "print(np.mean(GammaVar))\n",
    "print(np.std(GammaVar))\n",
    "plt.axvline(GammaVar.mean(), color='b', linestyle = 'solid', linewidth=2) \n",
    "plt.axvline(GammaVar.mean()+GammaVar.std(), color = 'b', linestyle = 'dashed', linewidth=2)\n",
    "plt.axvline(GammaVar.mean()-GammaVar.std(), color = 'b', linestyle = 'dashed', linewidth=2)\n",
    "plt.show()\n",
    "\n",
    "#4. The descriptive statistics correctly show that the event starts out less likely, then becomes\n",
    "#more likely, and then goes back to being even less likely. \n",
    "\n"
   ]
  },
  {
   "cell_type": "code",
   "execution_count": 101,
   "metadata": {
    "collapsed": false
   },
   "outputs": [
    {
     "name": "stdout",
     "output_type": "stream",
     "text": [
      "2.89\n",
      "1.63030671961\n"
     ]
    },
    {
     "data": {
      "image/png": "[encoded data removed]",
      "text/plain": [
       "<matplotlib.figure.Figure at 0x10e8de8d0>"
      ]
     },
     "metadata": {},
     "output_type": "display_data"
    }
   ],
   "source": [
    "#1. Draw samples from a Poisson Distribution\n",
    "#Generate a random var with 100 dps \n",
    "PoissonVar = np.random.poisson(3, 100)\n",
    "\n",
    "#2. Graph variable using a histogram\n",
    "plt.hist(PoissonVar)\n",
    "\n",
    "#3. Compute and plot mean and SD \n",
    "print(np.mean(PoissonVar))\n",
    "print(np.std(PoissonVar))\n",
    "plt.axvline(PoissonVar.mean(), color='b', linestyle = 'solid', linewidth=2) \n",
    "plt.axvline(PoissonVar.mean()+PoissonVar.std(), color = 'b', linestyle = 'dashed', linewidth=2)\n",
    "plt.axvline(PoissonVar.mean()-PoissonVar.std(), color = 'b', linestyle = 'dashed', linewidth=2)\n",
    "plt.show()\n",
    "\n",
    "#4. The descriptive statistics correctly show that the mean value\n",
    "#hovers around lambda = 3, the number of times an event occurs during \n",
    "#a given time period. \n"
   ]
  },
  {
   "cell_type": "code",
   "execution_count": 102,
   "metadata": {
    "collapsed": false
   },
   "outputs": [
    {
     "name": "stdout",
     "output_type": "stream",
     "text": [
      "2.47\n",
      "2.09023922076\n"
     ]
    },
    {
     "data": {
      "image/png": "[encoded data removed]",
      "text/plain": [
       "<matplotlib.figure.Figure at 0x10efbd3c8>"
      ]
     },
     "metadata": {},
     "output_type": "display_data"
    }
   ],
   "source": [
    "#1. Draw samples from the Geometric Distribution\n",
    "#Generate a random var with 100 dps \n",
    "GeoVar = np.random.geometric(0.35, 100)\n",
    "\n",
    "#2. Graph variable using a histogram\n",
    "plt.hist(GeoVar)\n",
    "\n",
    "#3. Compute and plot mean and SD \n",
    "print(np.mean(GeoVar))\n",
    "print(np.std(GeoVar))\n",
    "plt.axvline(GeoVar.mean(), color='b', linestyle = 'solid', linewidth=2) \n",
    "plt.axvline(GeoVar.mean()+GeoVar.std(), color = 'b', linestyle = 'dashed', linewidth=2)\n",
    "plt.axvline(GeoVar.mean()-GeoVar.std(), color = 'b', linestyle = 'dashed', linewidth=2)\n",
    "plt.show()\n",
    "\n",
    "#4. Descriptive Statistics: I don't know how much the SD or mean is helping \n",
    "#someone understand the data here. "
   ]
  },
  {
   "cell_type": "code",
   "execution_count": 103,
   "metadata": {
    "collapsed": false
   },
   "outputs": [
    {
     "name": "stdout",
     "output_type": "stream",
     "text": [
      "33.9870382823\n",
      "40.336628495\n"
     ]
    },
    {
     "data": {
      "image/png": "[encoded data removed]",
      "text/plain": [
       "<matplotlib.figure.Figure at 0x10ea17e80>"
      ]
     },
     "metadata": {},
     "output_type": "display_data"
    }
   ],
   "source": [
    "#1. Draw samples from a Log-Normal Distribution\n",
    "#Generate a random var with 100 dps \n",
    "LogNormVar = np.random.lognormal(3,1,100)\n",
    "\n",
    "#2. Graph variable using a histogram\n",
    "plt.hist(LogNormVar)\n",
    "\n",
    "#3. Compute and plot mean and SD \n",
    "print(np.mean(LogNormVar))\n",
    "print(np.std(LogNormVar))\n",
    "plt.axvline(LogNormVar.mean(), color='b', linestyle = 'solid', linewidth=2) \n",
    "plt.axvline(LogNormVar.mean()+LogNormVar.std(), color = 'b', linestyle = 'dashed', linewidth=2)\n",
    "plt.axvline(LogNormVar.mean()-LogNormVar.std(), color = 'b', linestyle = 'dashed', linewidth=2)\n",
    "plt.show()\n",
    "\n",
    "#4. I have no idea if the descriptive statistics are providing useful information here.\n",
    "\n"
   ]
  },
  {
   "cell_type": "code",
   "execution_count": 104,
   "metadata": {
    "collapsed": true
   },
   "outputs": [],
   "source": [
    "#4. Distributions that have more in common with normal distibutions are more\n",
    "#usefully escribted by the mean and standard deviation. Destributions that \n",
    "#have less in common with the normal distribution are less usefully\n",
    "#described by mean and standard deviation."
   ]
  },
  {
   "cell_type": "code",
   "execution_count": 105,
   "metadata": {
    "collapsed": false
   },
   "outputs": [
    {
     "name": "stdout",
     "output_type": "stream",
     "text": [
      "14.894821194\n",
      "1.01526728347\n"
     ]
    },
    {
     "data": {
      "image/png": "[encoded data removed]",
      "text/plain": [
       "<matplotlib.figure.Figure at 0x10ec2b7f0>"
      ]
     },
     "metadata": {},
     "output_type": "display_data"
    }
   ],
   "source": [
    "#1.Generate 2 nomrally-dist vars\n",
    "rand1=np.random.normal(5,0.5,100)\n",
    "rand2=np.random.normal(10, 1,100)\n",
    "#2.Add together to create 3rd var\n",
    "rand3=rand1+rand2\n",
    "#3.Graph rand3 \n",
    "plt.hist(rand3)\n",
    "#4.Compute and plot mean and SD\n",
    "print(np.mean(rand3))\n",
    "print(np.std(rand3))\n",
    "plt.axvline(rand3.mean(), color='b', linestyle = 'solid', linewidth=2) \n",
    "plt.axvline(rand3.mean()+rand3.std(), color = 'b', linestyle = 'dashed', linewidth=2)\n",
    "plt.axvline(rand3.mean()-rand3.std(), color = 'b', linestyle = 'dashed', linewidth=2)\n",
    "plt.show()\n",
    "\n",
    "#5. The mean and SD do seem to describe the data because rand3\n",
    "#looks like a normal distribution. The mean hovers around 15, which \n",
    "#is the mean of rand1 + mean of rand2. The majority of values\n",
    "#do seem to fall within 1 SD. \n"
   ]
  }
 ],
 "metadata": {
  "kernelspec": {
   "display_name": "Python 3",
   "language": "python",
   "name": "python3"
  },
  "language_info": {
   "codemirror_mode": {
    "name": "ipython",
    "version": 3
   },
   "file_extension": ".py",
   "mimetype": "text/x-python",
   "name": "python",
   "nbconvert_exporter": "python",
   "pygments_lexer": "ipython3",
   "version": "3.6.0"
  }
 },
 "nbformat": 4,
 "nbformat_minor": 2
}
